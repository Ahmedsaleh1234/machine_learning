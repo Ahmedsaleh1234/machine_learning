{
 "cells": [
  {
   "cell_type": "code",
   "execution_count": 1,
   "id": "f1c05416",
   "metadata": {},
   "outputs": [
    {
     "name": "stdout",
     "output_type": "stream",
     "text": [
      "labels_logits.npz file created.\n"
     ]
    }
   ],
   "source": [
    "import numpy as np\n",
    "\n",
    "\n",
    "# Simulate data\n",
    "num_samples = 10\n",
    "num_classes = 3\n",
    "\n",
    "# True labels (as integers)\n",
    "true_classes = np.random.randint(0, num_classes, size=num_samples)\n",
    "\n",
    "# Predicted classes (simulated predictions)\n",
    "predicted_classes = np.random.randint(0, num_classes, size=num_samples)\n",
    "\n",
    "# Convert to one-hot\n",
    "labels = np.eye(num_classes)[true_classes]\n",
    "logits = np.eye(num_classes)[predicted_classes]\n",
    "\n",
    "# Save to .npz\n",
    "np.savez('labels_logits.npz', labels=labels, logits=logits)\n",
    "\n",
    "print(\"labels_logits.npz file created.\")"
   ]
  },
  {
   "cell_type": "code",
   "execution_count": 1,
   "id": "dc1a38c6",
   "metadata": {},
   "outputs": [
    {
     "name": "stdout",
     "output_type": "stream",
     "text": [
      "[[1. 0. 0.]\n",
      " [1. 1. 1.]\n",
      " [1. 1. 4.]]\n"
     ]
    }
   ],
   "source": [
    "from confusion_matrix import confusion_matraix\n",
    "import numpy as np\n",
    "\n",
    "\n",
    "if __name__ == '__main__':\n",
    "    lib = np.load('labels_logits.npz')\n",
    "    labels = lib['labels']\n",
    "    logits = lib['logits']\n",
    "\n",
    "    np.set_printoptions(suppress=True)\n",
    "    confusion = confusion_matraix(labels, logits)\n",
    "    print(confusion)\n",
    "    np.savez_compressed('confusion.npz', confusion=confusion)"
   ]
  },
  {
   "cell_type": "code",
   "execution_count": 3,
   "id": "1f227c4d",
   "metadata": {},
   "outputs": [
    {
     "name": "stdout",
     "output_type": "stream",
     "text": [
      "[[1 0 0]\n",
      " [1 1 0]\n",
      " [0 0 1]]\n"
     ]
    }
   ],
   "source": [
    "labels = np.array([\n",
    "    [1, 0, 0],  # true = class 0\n",
    "    [0, 1, 0],  # true = class 1\n",
    "    [0, 1, 0],  # true = class 1\n",
    "    [0, 0, 1],  # true = class 2\n",
    "])\n",
    "\n",
    "logits = np.array([\n",
    "    [1, 0, 0],  # predicted = class 0 ✅\n",
    "    [0, 1, 0],  # predicted = class 1 ✅\n",
    "    [1, 0, 0],  # predicted = class 0 ❌\n",
    "    [0, 0, 1],  # predicted = class 2 ✅\n",
    "])\n",
    "print(confusion_matraix(labels, logits))"
   ]
  }
 ],
 "metadata": {
  "kernelspec": {
   "display_name": "venv",
   "language": "python",
   "name": "python3"
  },
  "language_info": {
   "codemirror_mode": {
    "name": "ipython",
    "version": 3
   },
   "file_extension": ".py",
   "mimetype": "text/x-python",
   "name": "python",
   "nbconvert_exporter": "python",
   "pygments_lexer": "ipython3",
   "version": "3.12.3"
  }
 },
 "nbformat": 4,
 "nbformat_minor": 5
}
