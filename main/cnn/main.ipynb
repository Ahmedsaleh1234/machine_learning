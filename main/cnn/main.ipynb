{
 "cells": [
  {
   "cell_type": "code",
   "execution_count": 2,
   "id": "c9bfaaa4",
   "metadata": {},
   "outputs": [],
   "source": [
    "import tensorflow.keras as k"
   ]
  },
  {
   "cell_type": "code",
   "execution_count": 3,
   "id": "ee4546eb",
   "metadata": {},
   "outputs": [],
   "source": [
    "from lenet_5 import lenet"
   ]
  },
  {
   "cell_type": "code",
   "execution_count": 4,
   "id": "4b379245",
   "metadata": {},
   "outputs": [
    {
     "name": "stderr",
     "output_type": "stream",
     "text": [
      "2025-08-24 22:09:44.753161: E external/local_xla/xla/stream_executor/cuda/cuda_platform.cc:51] failed call to cuInit: INTERNAL: CUDA error: Failed call to cuInit: UNKNOWN ERROR (303)\n"
     ]
    },
    {
     "name": "stdout",
     "output_type": "stream",
     "text": [
      "Epoch 1/5\n"
     ]
    },
    {
     "name": "stderr",
     "output_type": "stream",
     "text": [
      "2025-08-24 22:09:45.505416: W external/local_xla/xla/tsl/framework/cpu_allocator_impl.cc:84] Allocation of 47040000 exceeds 10% of free system memory.\n"
     ]
    },
    {
     "name": "stdout",
     "output_type": "stream",
     "text": [
      "\u001b[1m   2/1875\u001b[0m \u001b[37m━━━━━━━━━━━━━━━━━━━━\u001b[0m \u001b[1m2:10\u001b[0m 70ms/step - accuracy: 0.0781 - loss: 502.5970 "
     ]
    },
    {
     "name": "stderr",
     "output_type": "stream",
     "text": [
      "2025-08-24 22:09:51.718265: W external/local_xla/xla/tsl/framework/cpu_allocator_impl.cc:84] Allocation of 24840000 exceeds 10% of free system memory.\n",
      "2025-08-24 22:09:51.728088: W external/local_xla/xla/tsl/framework/cpu_allocator_impl.cc:84] Allocation of 24840000 exceeds 10% of free system memory.\n",
      "2025-08-24 22:09:51.780019: W external/local_xla/xla/tsl/framework/cpu_allocator_impl.cc:84] Allocation of 25244800 exceeds 10% of free system memory.\n",
      "2025-08-24 22:09:51.829258: W external/local_xla/xla/tsl/framework/cpu_allocator_impl.cc:84] Allocation of 24840000 exceeds 10% of free system memory.\n"
     ]
    },
    {
     "name": "stdout",
     "output_type": "stream",
     "text": [
      "\u001b[1m1875/1875\u001b[0m \u001b[32m━━━━━━━━━━━━━━━━━━━━\u001b[0m\u001b[37m\u001b[0m \u001b[1m88s\u001b[0m 44ms/step - accuracy: 0.8865 - loss: 3.5561 - val_accuracy: 0.9444 - val_loss: 0.4243\n",
      "Epoch 2/5\n",
      "\u001b[1m1875/1875\u001b[0m \u001b[32m━━━━━━━━━━━━━━━━━━━━\u001b[0m\u001b[37m\u001b[0m \u001b[1m145s\u001b[0m 46ms/step - accuracy: 0.9504 - loss: 0.2888 - val_accuracy: 0.9533 - val_loss: 0.2239\n",
      "Epoch 3/5\n",
      "\u001b[1m1875/1875\u001b[0m \u001b[32m━━━━━━━━━━━━━━━━━━━━\u001b[0m\u001b[37m\u001b[0m \u001b[1m102s\u001b[0m 54ms/step - accuracy: 0.9638 - loss: 0.1488 - val_accuracy: 0.9678 - val_loss: 0.1399\n",
      "Epoch 4/5\n",
      "\u001b[1m1875/1875\u001b[0m \u001b[32m━━━━━━━━━━━━━━━━━━━━\u001b[0m\u001b[37m\u001b[0m \u001b[1m137s\u001b[0m 52ms/step - accuracy: 0.9703 - loss: 0.1115 - val_accuracy: 0.9700 - val_loss: 0.1100\n",
      "Epoch 5/5\n",
      "\u001b[1m1875/1875\u001b[0m \u001b[32m━━━━━━━━━━━━━━━━━━━━\u001b[0m\u001b[37m\u001b[0m \u001b[1m152s\u001b[0m 57ms/step - accuracy: 0.9758 - loss: 0.0862 - val_accuracy: 0.9739 - val_loss: 0.0909\n"
     ]
    },
    {
     "data": {
      "text/plain": [
       "<keras.src.callbacks.history.History at 0x73b1ae7081a0>"
      ]
     },
     "execution_count": 4,
     "metadata": {},
     "output_type": "execute_result"
    }
   ],
   "source": [
    "(X_train, y_train), (X_vald, Y_valid) = k.datasets.mnist.load_data()\n",
    "\n",
    "y_one_hot = k.utils.to_categorical(y_train, num_classes=10)\n",
    "Y_valid_one_hot = k.utils.to_categorical(Y_valid, num_classes=10)\n",
    "m, h, w = X_train.shape\n",
    "\n",
    "x_train_reshape = X_train.reshape((-1, h, w, 1))\n",
    "X_vald_reshape = X_vald.reshape((-1, h, w, 1))\n",
    "x = k.Input(shape=(h, w, 1))\n",
    "model = lenet(x)\n",
    "model.fit(x_train_reshape, y_one_hot, batch_size=32, epochs=5, validation_data=(X_vald_reshape, Y_valid_one_hot))\n"
   ]
  },
  {
   "cell_type": "code",
   "execution_count": 42,
   "id": "a7fc6a82",
   "metadata": {},
   "outputs": [
    {
     "name": "stdout",
     "output_type": "stream",
     "text": [
      "\u001b[1m313/313\u001b[0m \u001b[32m━━━━━━━━━━━━━━━━━━━━\u001b[0m\u001b[37m\u001b[0m \u001b[1m8s\u001b[0m 27ms/step\n"
     ]
    }
   ],
   "source": [
    "y_predict = model.predict(X_vald_reshape)"
   ]
  },
  {
   "cell_type": "code",
   "execution_count": 43,
   "id": "87549a4a",
   "metadata": {},
   "outputs": [
    {
     "data": {
      "text/plain": [
       "(10000, 10)"
      ]
     },
     "execution_count": 43,
     "metadata": {},
     "output_type": "execute_result"
    }
   ],
   "source": [
    "y_predict.shape"
   ]
  },
  {
   "cell_type": "code",
   "execution_count": 44,
   "id": "92f0d0c5",
   "metadata": {},
   "outputs": [
    {
     "name": "stdout",
     "output_type": "stream",
     "text": [
      "[3.11000911e-20 2.56716794e-13 2.63585309e-09 7.82669502e-12\n",
      " 1.50041513e-09 1.20989265e-13 3.52701045e-18 9.99999940e-01\n",
      " 1.06970935e-14 7.53716464e-11]\n"
     ]
    }
   ],
   "source": [
    "print(y_predict[0])"
   ]
  },
  {
   "cell_type": "code",
   "execution_count": 45,
   "id": "46b2cbc3",
   "metadata": {},
   "outputs": [],
   "source": [
    "import numpy as np\n",
    "y_predict = np.argmax(y_predict, axis=1)"
   ]
  },
  {
   "cell_type": "code",
   "execution_count": 47,
   "id": "5096764b",
   "metadata": {},
   "outputs": [
    {
     "name": "stdout",
     "output_type": "stream",
     "text": [
      "0\n"
     ]
    },
    {
     "data": {
      "image/png": "[encoded data removed]",
      "text/plain": [
       "<Figure size 640x480 with 1 Axes>"
      ]
     },
     "metadata": {},
     "output_type": "display_data"
    }
   ],
   "source": [
    "import matplotlib.pyplot as plt\n",
    "import numpy as np\n",
    "\n",
    "print(y_predict[3])\n",
    "plt.imshow(X_vald_reshape[3])\n",
    "plt.show()\n"
   ]
  },
  {
   "cell_type": "code",
   "execution_count": 41,
   "id": "4b71ab86",
   "metadata": {},
   "outputs": [
    {
     "name": "stdout",
     "output_type": "stream",
     "text": [
      "Predicted class: 4\n",
      "Raw probabilities: [2.5765850e-13 1.0784479e-11 1.3226948e-09 4.1000034e-10 9.9999934e-01\n",
      " 5.5943667e-13 5.2752734e-14 5.6611924e-07 3.0607442e-10 8.9774251e-11]\n"
     ]
    },
    {
     "data": {
      "image/png": "[encoded data removed]",
      "text/plain": [
       "<Figure size 640x480 with 1 Axes>"
      ]
     },
     "metadata": {},
     "output_type": "display_data"
    }
   ],
   "source": [
    "import matplotlib.pyplot as plt\n",
    "import numpy as np\n",
    "\n",
    "# First convert probabilities to class labels\n",
    "y_predict_labels = np.argmax(y_predict, axis=1)\n",
    "\n",
    "# Now you can access the predicted class\n",
    "print(\"Predicted class:\", y_predict_labels[4])\n",
    "print(\"Raw probabilities:\", y_predict[4])  # Optional: see the actual probabilities\n",
    "\n",
    "plt.imshow(X_vald_reshape[4])\n",
    "plt.title(f\"Predicted class: {y_predict_labels[4]}\")\n",
    "plt.axis('off')\n",
    "plt.show()"
   ]
  }
 ],
 "metadata": {
  "kernelspec": {
   "display_name": "base",
   "language": "python",
   "name": "python3"
  },
  "language_info": {
   "codemirror_mode": {
    "name": "ipython",
    "version": 3
   },
   "file_extension": ".py",
   "mimetype": "text/x-python",
   "name": "python",
   "nbconvert_exporter": "python",
   "pygments_lexer": "ipython3",
   "version": "3.13.5"
  }
 },
 "nbformat": 4,
 "nbformat_minor": 5
}
