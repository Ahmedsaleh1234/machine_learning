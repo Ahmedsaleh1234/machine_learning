{
 "cells": [
  {
   "cell_type": "code",
   "execution_count": 3,
   "id": "86950358",
   "metadata": {},
   "outputs": [
    {
     "name": "stdout",
     "output_type": "stream",
     "text": [
      "[[1 1 1 0 1 0]\n",
      " [0 0 1 0 1 1]\n",
      " [1 1 0 1 0 0]] ['أحب' 'أنا' 'الآلة' 'التعلم' 'تعلم' 'ممتع']\n"
     ]
    }
   ],
   "source": [
    "from bag_of_words import bag_words\n",
    "\n",
    "sentences_arab=['أنا أحب تعلم الآلة', 'تعلم الآلة ممتع', 'أنا أحب التعلم']\n",
    "\n",
    "sentences = [\"Machine learning is awesome\",\n",
    "             \"NLP is the future!\",\n",
    "             \"The children are our future\",\n",
    "             \"Our children's children are our grandchildren\",\n",
    "             \"The cake was not very good\",\n",
    "             \"No one said that the cake was not very good\",\n",
    "             \"Life is kl\"]\n",
    "bags, features = bag_words(sentences_arab)\n",
    "print(bags.toarray(), features)\n"
   ]
  },
  {
   "cell_type": "code",
   "execution_count": 6,
   "id": "ed0312fe",
   "metadata": {},
   "outputs": [
    {
     "name": "stdout",
     "output_type": "stream",
     "text": [
      "[[0.57735027 0.57735027 0.         0.         0.         0.\n",
      "  0.57735027]\n",
      " [0.         0.         0.         0.         0.         0.\n",
      "  0.        ]\n",
      " [0.         0.         1.         0.         0.         0.\n",
      "  0.        ]\n",
      " [0.         0.         1.         0.         0.         0.\n",
      "  0.        ]\n",
      " [0.         0.         0.         0.70710678 0.70710678 0.\n",
      "  0.        ]\n",
      " [0.         0.         0.         0.70710678 0.70710678 0.\n",
      "  0.        ]\n",
      " [0.         0.         0.         0.         0.         0.\n",
      "  0.        ]]\n",
      "['awesome' 'learning' 'children' 'cake' 'good' 'none' 'machine']\n"
     ]
    }
   ],
   "source": [
    "from TF_IDF import TF_IDf\n",
    "sentences = [\"Machine learning is awesome\",\n",
    "             \"NLP is the future!\",\n",
    "             \"The children are our future\",\n",
    "             \"Our children's children are our grandchildren\",\n",
    "             \"The cake was not very good\",\n",
    "             \"No one said that the cake was not very good\",\n",
    "             \"Life is beautiful\"]\n",
    "vocab = [\"awesome\", \"learning\", \"children\", \"cake\", \"good\", \"none\", \"machine\"]\n",
    "E, F = TF_IDf(sentences, vocab)\n",
    "print(E.toarray())\n",
    "print(F)"
   ]
  },
  {
   "cell_type": "code",
   "execution_count": null,
   "id": "b8e0ccfc",
   "metadata": {},
   "outputs": [],
   "source": []
  }
 ],
 "metadata": {
  "kernelspec": {
   "display_name": "base",
   "language": "python",
   "name": "python3"
  },
  "language_info": {
   "codemirror_mode": {
    "name": "ipython",
    "version": 3
   },
   "file_extension": ".py",
   "mimetype": "text/x-python",
   "name": "python",
   "nbconvert_exporter": "python",
   "pygments_lexer": "ipython3",
   "version": "3.13.5"
  }
 },
 "nbformat": 4,
 "nbformat_minor": 5
}
