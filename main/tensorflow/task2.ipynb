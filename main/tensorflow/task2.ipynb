{
 "cells": [
  {
   "cell_type": "code",
   "execution_count": 27,
   "id": "0a55323b",
   "metadata": {},
   "outputs": [],
   "source": [
    "import tensorflow as tf"
   ]
  },
  {
   "cell_type": "code",
   "execution_count": 28,
   "id": "4f1deb53",
   "metadata": {},
   "outputs": [],
   "source": [
    "def create_layer(prev, n, activation):\n",
    "    '''create a layer\n",
    "        prev: tensor output of the previous layer\n",
    "        n: number of nodes in the layer to create\n",
    "        activation: activation function that the layer should use\n",
    "        Returns: the tensor output of the layer\n",
    "    '''\n",
    "    init = tf.contrib.layers.variance_scaling_initializer(mode=\"FAN_AVG\")\n",
    "    '''y = tf.layers.dense(prev, units=n, activation=activation,\n",
    "            kernel_initializer=kerinit, name='layer')'''\n",
    "    y = tf.keras.layers.Dense(n, activation, kernel_initializer=init, name='layer')\n",
    "    return y(prev)"
   ]
  },
  {
   "cell_type": "code",
   "execution_count": 25,
   "id": "02d65b15",
   "metadata": {},
   "outputs": [],
   "source": [
    "import tensorflow.compat.v1 as tf\n",
    "tf.disable_eager_execution()"
   ]
  },
  {
   "cell_type": "code",
   "execution_count": 29,
   "id": "633c1431",
   "metadata": {},
   "outputs": [],
   "source": [
    "def create_placeholders(nx, classes):\n",
    "    x = tf.placeholder(tf.float32, shape=(None, nx))\n",
    "    y = tf.placeholder(tf.float32, shape=(None, classes))\n",
    "    return x, y"
   ]
  },
  {
   "cell_type": "code",
   "execution_count": 31,
   "id": "d587747a",
   "metadata": {},
   "outputs": [
    {
     "ename": "AttributeError",
     "evalue": "module 'tensorflow' has no attribute 'placeholder'",
     "output_type": "error",
     "traceback": [
      "\u001b[31m---------------------------------------------------------------------------\u001b[39m",
      "\u001b[31mAttributeError\u001b[39m                            Traceback (most recent call last)",
      "\u001b[36mCell\u001b[39m\u001b[36m \u001b[39m\u001b[32mIn[31]\u001b[39m\u001b[32m, line 1\u001b[39m\n\u001b[32m----> \u001b[39m\u001b[32m1\u001b[39m x, y = \u001b[43mcreate_placeholders\u001b[49m\u001b[43m(\u001b[49m\u001b[32;43m784\u001b[39;49m\u001b[43m,\u001b[49m\u001b[43m \u001b[49m\u001b[32;43m10\u001b[39;49m\u001b[43m)\u001b[49m\n\u001b[32m      2\u001b[39m l = create_layer(x, \u001b[32m256\u001b[39m, tf.nn.tanh)\n",
      "\u001b[36mCell\u001b[39m\u001b[36m \u001b[39m\u001b[32mIn[29]\u001b[39m\u001b[32m, line 2\u001b[39m, in \u001b[36mcreate_placeholders\u001b[39m\u001b[34m(nx, classes)\u001b[39m\n\u001b[32m      1\u001b[39m \u001b[38;5;28;01mdef\u001b[39;00m\u001b[38;5;250m \u001b[39m\u001b[34mcreate_placeholders\u001b[39m(nx, classes):\n\u001b[32m----> \u001b[39m\u001b[32m2\u001b[39m     x = \u001b[43mtf\u001b[49m\u001b[43m.\u001b[49m\u001b[43mplaceholder\u001b[49m(tf.float32, shape=(\u001b[38;5;28;01mNone\u001b[39;00m, nx))\n\u001b[32m      3\u001b[39m     y = tf.placeholder(tf.float32, shape=(\u001b[38;5;28;01mNone\u001b[39;00m, classes))\n\u001b[32m      4\u001b[39m     \u001b[38;5;28;01mreturn\u001b[39;00m x, y\n",
      "\u001b[31mAttributeError\u001b[39m: module 'tensorflow' has no attribute 'placeholder'"
     ]
    }
   ],
   "source": [
    "x, y = create_placeholders(784, 10)\n",
    "l = create_layer(x, 256, tf.nn.tanh)\n"
   ]
  }
 ],
 "metadata": {
  "kernelspec": {
   "display_name": "venv",
   "language": "python",
   "name": "python3"
  },
  "language_info": {
   "codemirror_mode": {
    "name": "ipython",
    "version": 3
   },
   "file_extension": ".py",
   "mimetype": "text/x-python",
   "name": "python",
   "nbconvert_exporter": "python",
   "pygments_lexer": "ipython3",
   "version": "3.12.3"
  }
 },
 "nbformat": 4,
 "nbformat_minor": 5
}
